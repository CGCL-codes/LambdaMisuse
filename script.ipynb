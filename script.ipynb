{
 "cells": [
  {
   "cell_type": "markdown",
   "source": [
    "This file contains all scripts to get the statistics in our paper. To run this script, you need to unzip Dataset/kept_lambda_dataset.zip and Dataset/removed_lambda_dataset.zip first."
   ],
   "metadata": {}
  },
  {
   "cell_type": "code",
   "execution_count": 12,
   "source": [
    "import os\r\n",
    "removed_num = len(os.listdir('Dataset/removed_lambda_dataset'))\r\n",
    "kept_num = len(os.listdir('Dataset/kept_lambda_dataset'))"
   ],
   "outputs": [],
   "metadata": {}
  },
  {
   "cell_type": "code",
   "execution_count": 13,
   "source": [
    "print('Number of removed lambdas: ' + str(removed_num))\r\n",
    "print('Number of kept lambdas: ' + str(kept_num))"
   ],
   "outputs": [
    {
     "output_type": "stream",
     "name": "stdout",
     "text": [
      "Number of removed lambdas: 3662\n",
      "Number of kept lambdas: 31228\n"
     ]
    }
   ],
   "metadata": {}
  },
  {
   "cell_type": "markdown",
   "source": [
    "Life time of removed lambdas:"
   ],
   "metadata": {}
  },
  {
   "cell_type": "code",
   "execution_count": 14,
   "source": [
    "import csv\r\n",
    "\r\n",
    "removed_in_one_month = 0\r\n",
    "removed_after_one_year = 0\r\n",
    "with open('Quantitative Analysis/Lifetime of lambdas/life_time.csv') as f:\r\n",
    "    for row in csv.reader(f):\r\n",
    "        if row[1] == 'Removed' and int(row[0]) == 0:\r\n",
    "            removed_in_one_month += 1\r\n",
    "        if row[1] == 'Removed' and int(row[0]) >= 12:\r\n",
    "            removed_after_one_year += 1\r\n",
    "    print (\"There are %d lambda expressions out of %d removed in one month, the percentage is %.2f%%.\" % (removed_in_one_month, removed_num, removed_in_one_month / removed_num * 100))\r\n",
    "    print (\"%.2f%% (%d out of %d) lambdas are removed after one year\" % (removed_after_one_year / removed_num * 100, removed_after_one_year, removed_num))"
   ],
   "outputs": [
    {
     "output_type": "stream",
     "name": "stdout",
     "text": [
      "There are 1401 lambda expressions out of 3662 removed in one month, the percentage is 38.26%.\n",
      "20.23% (741 out of 3662) lambdas are removed after one year\n"
     ]
    }
   ],
   "metadata": {}
  },
  {
   "cell_type": "markdown",
   "source": [
    "Chi-Square test for lambda expressions removed or not and usage of functional interface:"
   ],
   "metadata": {}
  },
  {
   "cell_type": "code",
   "execution_count": 15,
   "source": [
    "from scipy.stats import chi2_contingency\r\n",
    "import math\r\n",
    "\r\n",
    "removed_built_in = 1188\r\n",
    "kept_built_in = 12828\r\n",
    "removed_self_defined = 659\r\n",
    "kept_self_defined = 4995\r\n",
    "\r\n",
    "table = [[removed_self_defined, kept_self_defined], [removed_built_in, kept_built_in]]\r\n",
    "size = sum(table[0]) + sum(table[1])\r\n",
    "chi_square, p, df, expected = chi2_contingency(table)\r\n",
    "fi = math.sqrt(chi_square / size)\r\n",
    "print(\"Chi-Square: \" + str(chi_square))\r\n",
    "print(\"p-value: \" + str(p))\r\n",
    "print(\"Degree of freedom: \" + str(df))\r\n",
    "print('Effect size: ' + str(fi))"
   ],
   "outputs": [
    {
     "output_type": "stream",
     "name": "stdout",
     "text": [
      "Chi-Square: 47.49414926448731\n",
      "p-value: 5.516835530106593e-12\n",
      "Degree of freedom: 1\n",
      "Effect size: 0.04913804531036624\n"
     ]
    }
   ],
   "metadata": {}
  },
  {
   "cell_type": "markdown",
   "source": [
    "Chi-Square test for lambda expressions removed or not and whether the lambda has parameters:"
   ],
   "metadata": {}
  },
  {
   "cell_type": "code",
   "execution_count": 16,
   "source": [
    "from scipy.stats import chi2_contingency\r\n",
    "import math\r\n",
    "\r\n",
    "removed_empty_para = 1404\r\n",
    "removed_has_para = 2258\r\n",
    "kept_empty_para = 9604\r\n",
    "kept_has_para = 21624\r\n",
    "\r\n",
    "table = [[removed_empty_para, kept_empty_para], [removed_has_para, kept_has_para]]\r\n",
    "size = sum(table[0]) + sum(table[1])\r\n",
    "chi_square, p, df, expected = chi2_contingency(table)\r\n",
    "fi = math.sqrt(chi_square / size)\r\n",
    "print(\"Chi-Square: \" + str(chi_square))\r\n",
    "print(\"p-value: \" + str(p))\r\n",
    "print(\"Degree of freedom: \" + str(df))\r\n",
    "print('Effect size: ' + str(fi))"
   ],
   "outputs": [
    {
     "output_type": "stream",
     "name": "stdout",
     "text": [
      "Chi-Square: 86.97131133703881\n",
      "p-value: 1.1010682017865398e-20\n",
      "Degree of freedom: 1\n",
      "Effect size: 0.04992723605868541\n"
     ]
    }
   ],
   "metadata": {}
  },
  {
   "cell_type": "markdown",
   "source": [
    "Mann-Whitney test for lambda lines for removed and kept empty argument lambdas:"
   ],
   "metadata": {}
  },
  {
   "cell_type": "code",
   "execution_count": 17,
   "source": [
    "from scipy import stats\r\n",
    "import csv\r\n",
    "import numpy as np\r\n",
    "\r\n",
    "kept_lines = []\r\n",
    "removed_lines = []\r\n",
    "with open('Quantitative Analysis/The complexity of lambda expressions/lines_of_empty_argument_lambdas/lines_empty_argument_lambda_raw.csv') as f:\r\n",
    "    for row in csv.reader(f):\r\n",
    "        if row[1] == 'Kept':\r\n",
    "            kept_lines.append(int(row[0]))\r\n",
    "        if row[1] == 'Removed':\r\n",
    "            removed_lines.append(int(row[0]))\r\n",
    "    \r\n",
    "    statistics, p = stats.mannwhitneyu(kept_lines, removed_lines, alternative='greater')\r\n",
    "    print('p-value: ' + str(p))"
   ],
   "outputs": [
    {
     "output_type": "stream",
     "name": "stdout",
     "text": [
      "p-value: 2.4407145638139196e-16\n"
     ]
    }
   ],
   "metadata": {}
  },
  {
   "cell_type": "markdown",
   "source": [
    "Mann-Whitney test for lambda body depth for removed and kept empty argument lambdas:"
   ],
   "metadata": {}
  },
  {
   "cell_type": "code",
   "execution_count": 18,
   "source": [
    "from scipy import stats\r\n",
    "import csv\r\n",
    "import numpy as np\r\n",
    "\r\n",
    "kept_depth = []\r\n",
    "removed_depth = []\r\n",
    "with open('Quantitative Analysis/The complexity of lambda expressions/body_depth_of_empty_argument_lambdas/body_depth_empty_argument_lambda_raw.csv') as f:\r\n",
    "    for row in csv.reader(f):\r\n",
    "        if row[1] == 'Kept':\r\n",
    "            kept_depth.append(int(row[0]))\r\n",
    "        if row[1] == 'Removed':\r\n",
    "            removed_depth.append(int(row[0]))\r\n",
    "    \r\n",
    "    statistics, p = stats.mannwhitneyu(kept_depth, removed_depth, alternative='greater')\r\n",
    "    print('p-value: ' + str(p))"
   ],
   "outputs": [
    {
     "output_type": "stream",
     "name": "stdout",
     "text": [
      "p-value: 8.909011334696569e-28\n"
     ]
    }
   ],
   "metadata": {}
  },
  {
   "cell_type": "markdown",
   "source": [
    "Mann-Whitney test for lambda lines for removed and kept non-empty argument lambdas:"
   ],
   "metadata": {}
  },
  {
   "cell_type": "code",
   "execution_count": 19,
   "source": [
    "from scipy import stats\r\n",
    "import csv\r\n",
    "import numpy as np\r\n",
    "\r\n",
    "kept_lines = []\r\n",
    "removed_lines = []\r\n",
    "with open('Quantitative Analysis/The complexity of lambda expressions/lines_of_non_empty_argument_lambdas/lines_non_empty_argument_lambda_raw.csv') as f:\r\n",
    "    for row in csv.reader(f):\r\n",
    "        if row[1] == 'Kept':\r\n",
    "            kept_lines.append(int(row[0]))\r\n",
    "        if row[1] == 'Removed':\r\n",
    "            removed_lines.append(int(row[0]))\r\n",
    "    \r\n",
    "    statistics, p = stats.mannwhitneyu(kept_lines, removed_lines, alternative='less')\r\n",
    "    print('p-value: ' + str(p))"
   ],
   "outputs": [
    {
     "output_type": "stream",
     "name": "stdout",
     "text": [
      "p-value: 2.469788400293504e-12\n"
     ]
    }
   ],
   "metadata": {}
  },
  {
   "cell_type": "markdown",
   "source": [
    "Mann-Whitney test for lambda captured variable number for removed and kept lambdas:"
   ],
   "metadata": {}
  },
  {
   "cell_type": "code",
   "execution_count": 20,
   "source": [
    "from scipy import stats\r\n",
    "import csv\r\n",
    "import numpy as np\r\n",
    "\r\n",
    "kept_variable = []\r\n",
    "removed_variable = []\r\n",
    "with open('Quantitative Analysis/The complexity of lambda expressions/number_of_variables_used_in_lambda_bodies/variable_number_raw.csv') as f:\r\n",
    "    for row in csv.reader(f):\r\n",
    "        if row[1] == 'Kept':\r\n",
    "            kept_variable.append(int(row[0]))\r\n",
    "        if row[1] == 'Removed':\r\n",
    "            removed_variable.append(int(row[0]))\r\n",
    "    \r\n",
    "    statistics, p = stats.mannwhitneyu(kept_variable, removed_variable, alternative='less')\r\n",
    "    print('p-value: ' + str(p))"
   ],
   "outputs": [
    {
     "output_type": "stream",
     "name": "stdout",
     "text": [
      "4.893492023297037\n",
      "5.490438695163105\n",
      "p-value: 0.003581436371616115\n"
     ]
    }
   ],
   "metadata": {}
  },
  {
   "cell_type": "markdown",
   "source": [
    "Chi-Square test for lambda expressions removed or not and whether the lambda is passed to a built-in or self-defined method:"
   ],
   "metadata": {}
  },
  {
   "cell_type": "code",
   "execution_count": 21,
   "source": [
    "from scipy.stats import chi2_contingency\r\n",
    "import math\r\n",
    "\r\n",
    "removed_built_in = 624\r\n",
    "kept_built_in = 9361\r\n",
    "removed_self_defined = 1289\r\n",
    "kept_self_defined = 9482\r\n",
    "\r\n",
    "table = [[removed_self_defined, kept_self_defined], [removed_built_in, kept_built_in]]\r\n",
    "size = sum(table[0]) + sum(table[1])\r\n",
    "chi_square, p, df, expected = chi2_contingency(table)\r\n",
    "fi = math.sqrt(chi_square / size)\r\n",
    "print(\"Chi-Square: \" + str(chi_square))\r\n",
    "print(\"p-value: \" + str(p))\r\n",
    "print(\"Degree of freedom: \" + str(df))\r\n",
    "print('Effect size: ' + str(fi))"
   ],
   "outputs": [
    {
     "output_type": "stream",
     "name": "stdout",
     "text": [
      "Chi-Square: 201.78817255919424\n",
      "p-value: 8.503957577377727e-46\n",
      "Degree of freedom: 1\n",
      "Effect size: 0.09859979741392562\n"
     ]
    }
   ],
   "metadata": {}
  }
 ],
 "metadata": {
  "orig_nbformat": 4,
  "language_info": {
   "name": "python"
  }
 },
 "nbformat": 4,
 "nbformat_minor": 2
}